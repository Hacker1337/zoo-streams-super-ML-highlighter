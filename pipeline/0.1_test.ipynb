{
 "cells": [
  {
   "cell_type": "code",
   "execution_count": 1,
   "metadata": {},
   "outputs": [
    {
     "name": "stderr",
     "output_type": "stream",
     "text": [
      "/home/amir/miniconda3/envs/image-assess/lib/python3.8/site-packages/tqdm/auto.py:21: TqdmWarning: IProgress not found. Please update jupyter and ipywidgets. See https://ipywidgets.readthedocs.io/en/stable/user_install.html\n",
      "  from .autonotebook import tqdm as notebook_tqdm\n"
     ]
    },
    {
     "name": "stdout",
     "output_type": "stream",
     "text": [
      "Loaded as API: https://waleko-segmentanythingxgroundingdino.hf.space/ ✔\n",
      "('/tmp/gradio/tmp7f80mb8g.json', '/tmp/gradio/0d0dab98-8cb9-41e2-9f78-0ec02a9e6c24')\n"
     ]
    }
   ],
   "source": [
    "from gradio_client import Client\n",
    "\n",
    "client = Client(\"https://waleko-segmentanythingxgroundingdino.hf.space/\")\n",
    "result = client.predict(\n",
    "\t\t\t\t\"https://raw.githubusercontent.com/gradio-app/gradio/main/test/test_files/bus.png\",\t# str representing filepath or URL to image in 'Upload Image' Image component\n",
    "\t\t\t\t\"Howdy!\",\t# str representing string value in 'Object to Detect' Textbox component\n",
    "\t\t\t\tapi_name=\"/predict\"\n",
    ")\n",
    "print(result)"
   ]
  },
  {
   "cell_type": "code",
   "execution_count": 2,
   "metadata": {},
   "outputs": [
    {
     "name": "stdout",
     "output_type": "stream",
     "text": [
      "0d0dab98-8cb9-41e2-9f78-0ec02a9e6c24  tmp7f80mb8g.json\n"
     ]
    }
   ],
   "source": [
    "!ls /tmp/gradio/"
   ]
  },
  {
   "cell_type": "markdown",
   "metadata": {},
   "source": [
    "# Prototype"
   ]
  },
  {
   "cell_type": "code",
   "execution_count": 5,
   "metadata": {},
   "outputs": [],
   "source": [
    "prompt = \"aminal\"   # prompt for text model\n",
    "result_dict = {}"
   ]
  },
  {
   "cell_type": "markdown",
   "metadata": {},
   "source": [
    "## Download images"
   ]
  },
  {
   "cell_type": "code",
   "execution_count": 6,
   "metadata": {},
   "outputs": [
    {
     "name": "stdout",
     "output_type": "stream",
     "text": [
      "The autoreload extension is already loaded. To reload it, use:\n",
      "  %reload_ext autoreload\n"
     ]
    }
   ],
   "source": [
    "# load autoreload extension\n",
    "%load_ext autoreload\n",
    "%autoreload 2"
   ]
  },
  {
   "cell_type": "code",
   "execution_count": null,
   "metadata": {},
   "outputs": [],
   "source": []
  },
  {
   "cell_type": "code",
   "execution_count": 7,
   "metadata": {},
   "outputs": [
    {
     "name": "stderr",
     "output_type": "stream",
     "text": [
      "\u001b[32m15:25:05\u001b[0m :: \u001b[1;35m   Helper    \u001b[0m :: \u001b[1;31m\u001b[2;33mWARNING \u001b[0m :: \u001b[1;37mGStreamer not found!\u001b[0m\n",
      "\u001b[32m15:25:05\u001b[0m :: \u001b[1;35m   Helper    \u001b[0m :: \u001b[1;33m DEBUG  \u001b[0m :: \u001b[1;37mSelecting `best` resolution for streams.\u001b[0m\n",
      "\u001b[32m15:25:05\u001b[0m :: \u001b[1;35m   CamGear   \u001b[0m :: \u001b[1;36m  INFO  \u001b[0m :: \u001b[1;37mVerifying Streaming URL using yt-dlp backend. Please wait...\u001b[0m\n"
     ]
    },
    {
     "name": "stderr",
     "output_type": "stream",
     "text": [
      "\u001b[32m15:25:07\u001b[0m :: \u001b[1;35m   CamGear   \u001b[0m :: \u001b[1;36m  INFO  \u001b[0m :: \u001b[1;37m[Backend] :: Streaming URL is fully supported. Available Streams are: [144p, 240p, 360p, 480p, 720p, 1080p, best, worst]\u001b[0m\n",
      "\u001b[32m15:25:07\u001b[0m :: \u001b[1;35m   CamGear   \u001b[0m :: \u001b[1;31m\u001b[2;33mWARNING \u001b[0m :: \u001b[1;37mLivestream URL detected. It is advised to use GStreamer backend(`cv2.CAP_GSTREAMER`) with it.\u001b[0m\n",
      "\u001b[32m15:25:07\u001b[0m :: \u001b[1;35m   CamGear   \u001b[0m :: \u001b[1;33m DEBUG  \u001b[0m :: \u001b[1;37mUsing `best` resolution for streaming.\u001b[0m\n",
      "\u001b[32m15:25:07\u001b[0m :: \u001b[1;35m   CamGear   \u001b[0m :: \u001b[1;33m DEBUG  \u001b[0m :: \u001b[1;37mYouTube source ID: `g_L1Ay8P244`, Title: `Sloth TV powered by EXPLORE.org 2023-11-07 15:25`, Quality: `best`\u001b[0m\n",
      "\u001b[32m15:25:07\u001b[0m :: \u001b[1;35m   CamGear   \u001b[0m :: \u001b[1;33m DEBUG  \u001b[0m :: \u001b[1;37mEnabling Threaded Queue Mode for the current video source!\u001b[0m\n",
      "\u001b[32m15:25:11\u001b[0m :: \u001b[1;35m   CamGear   \u001b[0m :: \u001b[1;33m DEBUG  \u001b[0m :: \u001b[1;37mTerminating processes.\u001b[0m\n"
     ]
    }
   ],
   "source": [
    "from downloader import download_frames_from_video\n",
    "import os\n",
    "\n",
    "stream = \"https://www.youtube.com/watch?v=g_L1Ay8P244\"\n",
    "parsed_pic_dir = \"sloth_tv\"\n",
    "os.makedirs(parsed_pic_dir, exist_ok=True)\n",
    "download_frames_from_video(stream, parsed_pic_dir, every_nth=24, amount=2, verbose=True)"
   ]
  },
  {
   "cell_type": "markdown",
   "metadata": {},
   "source": [
    "## Segmentating photos"
   ]
  },
  {
   "cell_type": "code",
   "execution_count": 31,
   "metadata": {},
   "outputs": [
    {
     "name": "stdout",
     "output_type": "stream",
     "text": [
      "Loaded as API: https://waleko-segmentanythingxgroundingdino.hf.space/ ✔\n"
     ]
    }
   ],
   "source": [
    "from gradio_client import Client\n",
    "\n",
    "client = Client(\"https://waleko-segmentanythingxgroundingdino.hf.space/\")\n",
    "\n",
    "result_dict[\"photos\"] = os.listdir(parsed_pic_dir)\n",
    "result_dict[\"seg_predictions\"] = []\n",
    "\n",
    "for img in result_dict[\"photos\"]:\n",
    "    result_dict[\"seg_predictions\"].append(client.predict(\n",
    "        os.path.join(parsed_pic_dir, img),\t# str representing filepath or URL to image in 'Upload Image' Image component\n",
    "        prompt,\t# str representing string value in 'Object to Detect' Textbox component\n",
    "        api_name=\"/predict\"\n",
    "    ))"
   ]
  },
  {
   "cell_type": "markdown",
   "metadata": {},
   "source": [
    "## Assessing photos"
   ]
  },
  {
   "cell_type": "code",
   "execution_count": 38,
   "metadata": {},
   "outputs": [
    {
     "data": {
      "text/plain": [
       "('/tmp/gradio/tmpt9y7t9hq.json',\n",
       " '/tmp/gradio/67e56782-7b67-440a-bd9d-8ef9a8d51439',\n",
       " ['captions.json', 'dd09de001f95563a100293dc6ee14d5d5cdcaa9d'])"
      ]
     },
     "execution_count": 38,
     "metadata": {},
     "output_type": "execute_result"
    }
   ],
   "source": [
    "result_dict[\"seg_predictions\"][2][0], result_dict[\"seg_predictions\"][2][1], os.listdir(result_dict[\"seg_predictions\"][2][1])"
   ]
  },
  {
   "cell_type": "code",
   "execution_count": 46,
   "metadata": {},
   "outputs": [
    {
     "name": "stderr",
     "output_type": "stream",
     "text": [
      "/home/amir/miniconda3/envs/image-assess/lib/python3.8/site-packages/torch/nn/modules/container.py:119: UserWarning: Implicit dimension choice for softmax has been deprecated. Change the call to include dim=X as an argument.\n",
      "  input = module(input)\n"
     ]
    },
    {
     "name": "stdout",
     "output_type": "stream",
     "text": [
      "[]\n",
      "[]\n",
      "['/tmp/gradio/67e56782-7b67-440a-bd9d-8ef9a8d51439/dd09de001f95563a100293dc6ee14d5d5cdcaa9d/output_image_0.jpeg']\n"
     ]
    }
   ],
   "source": [
    "from image_assessment import model_api\n",
    "from PIL import Image\n",
    "\n",
    "\n",
    "result_dict[\"img_score\"] = []\n",
    "result_dict[\"subimg_scores\"] = []\n",
    "photo_sizes = []\n",
    "for i in range(len(result_dict[\"photos\"])):\n",
    "\n",
    "    img = result_dict[\"photos\"][i]\n",
    "    im = Image.open(os.path.join(parsed_pic_dir, img))\n",
    "    width, height = im.size\n",
    "    photo_sizes.append(width*height)\n",
    "\n",
    "    img_score, _ = model_api.predict(os.path.join(parsed_pic_dir, img))\n",
    "    result_dict[\"img_score\"].append(img_score)\n",
    "\n",
    "    res_path = result_dict[\"seg_predictions\"][i][1]\n",
    "    files = []\n",
    "    for root, dirs, f in os.walk(res_path):\n",
    "        for file in f:\n",
    "            if file.endswith(\".jpeg\"):\n",
    "                files.append(os.path.join(root, file))\n",
    "    print(files)\n",
    "    sub_scores = []\n",
    "    for file in files:\n",
    "        sub_score, _ = model_api.predict(file)\n",
    "        sub_scores.append(sub_score)\n",
    "    result_dict[\"subimg_scores\"].append(sub_scores)\n"
   ]
  },
  {
   "cell_type": "code",
   "execution_count": 47,
   "metadata": {},
   "outputs": [
    {
     "name": "stdout",
     "output_type": "stream",
     "text": [
      "{'prompt': 'aminal', 'objects': []}\n",
      "{'prompt': 'aminal', 'objects': []}\n",
      "{'prompt': 'aminal', 'objects': [{'label': 'aminal', 'dino_score': 0.6490511894226074, 'sam_score': 0.9997274279594421, 'box': [504, 43, 1097, 509], 'center': [800.5, 276.0], 'avg_size': 529.5}]}\n"
     ]
    }
   ],
   "source": [
    "# animal fraction computing\n",
    "import json\n",
    "\n",
    "\n",
    "fractions = []\n",
    "for i in range(len(result_dict[\"photos\"])):\n",
    "    json_path = result_dict[\"seg_predictions\"][i][0]\n",
    "    # read json file\n",
    "    with open(json_path, 'r') as f:\n",
    "        meta_info = json.load(f)\n",
    "\n",
    "    print(meta_info)\n",
    "    fract = 0\n",
    "    for obj in meta_info[\"objects\"]:\n",
    "        area = abs((obj[\"box\"][0] - obj[\"box\"][1])*(obj[\"box\"][2] - obj[\"box\"][3]))\n",
    "\n",
    "        fract += obj[\"dino_score\"]*area/photo_sizes[i]\n",
    "    fractions.append(fract)\n",
    "result_dict[\"fractions\"] = fractions"
   ]
  },
  {
   "cell_type": "code",
   "execution_count": 48,
   "metadata": {},
   "outputs": [
    {
     "data": {
      "text/html": [
       "<div>\n",
       "<style scoped>\n",
       "    .dataframe tbody tr th:only-of-type {\n",
       "        vertical-align: middle;\n",
       "    }\n",
       "\n",
       "    .dataframe tbody tr th {\n",
       "        vertical-align: top;\n",
       "    }\n",
       "\n",
       "    .dataframe thead th {\n",
       "        text-align: right;\n",
       "    }\n",
       "</style>\n",
       "<table border=\"1\" class=\"dataframe\">\n",
       "  <thead>\n",
       "    <tr style=\"text-align: right;\">\n",
       "      <th></th>\n",
       "      <th>photos</th>\n",
       "      <th>seg_predictions</th>\n",
       "      <th>img_score</th>\n",
       "      <th>subimg_scores</th>\n",
       "      <th>fractions</th>\n",
       "    </tr>\n",
       "  </thead>\n",
       "  <tbody>\n",
       "    <tr>\n",
       "      <th>0</th>\n",
       "      <td>frames0.jpg</td>\n",
       "      <td>(/tmp/gradio/tmp47pp9f84.json, /tmp/gradio/106...</td>\n",
       "      <td>5.860427</td>\n",
       "      <td>[]</td>\n",
       "      <td>0.000000</td>\n",
       "    </tr>\n",
       "    <tr>\n",
       "      <th>1</th>\n",
       "      <td>frames24.jpg</td>\n",
       "      <td>(/tmp/gradio/tmpbmqzh78k.json, /tmp/gradio/5dc...</td>\n",
       "      <td>6.284785</td>\n",
       "      <td>[]</td>\n",
       "      <td>0.000000</td>\n",
       "    </tr>\n",
       "    <tr>\n",
       "      <th>2</th>\n",
       "      <td>photo_2023-10-24_20-36-57.jpg</td>\n",
       "      <td>(/tmp/gradio/tmpt9y7t9hq.json, /tmp/gradio/67e...</td>\n",
       "      <td>6.273122</td>\n",
       "      <td>[6.41249418258667]</td>\n",
       "      <td>0.270756</td>\n",
       "    </tr>\n",
       "  </tbody>\n",
       "</table>\n",
       "</div>"
      ],
      "text/plain": [
       "                          photos  \\\n",
       "0                    frames0.jpg   \n",
       "1                   frames24.jpg   \n",
       "2  photo_2023-10-24_20-36-57.jpg   \n",
       "\n",
       "                                     seg_predictions  img_score  \\\n",
       "0  (/tmp/gradio/tmp47pp9f84.json, /tmp/gradio/106...   5.860427   \n",
       "1  (/tmp/gradio/tmpbmqzh78k.json, /tmp/gradio/5dc...   6.284785   \n",
       "2  (/tmp/gradio/tmpt9y7t9hq.json, /tmp/gradio/67e...   6.273122   \n",
       "\n",
       "        subimg_scores  fractions  \n",
       "0                  []   0.000000  \n",
       "1                  []   0.000000  \n",
       "2  [6.41249418258667]   0.270756  "
      ]
     },
     "execution_count": 48,
     "metadata": {},
     "output_type": "execute_result"
    }
   ],
   "source": [
    "import pandas as pd\n",
    "\n",
    "df = pd.DataFrame(result_dict)\n",
    "df"
   ]
  },
  {
   "cell_type": "code",
   "execution_count": 66,
   "metadata": {},
   "outputs": [
    {
     "data": {
      "text/html": [
       "<div>\n",
       "<style scoped>\n",
       "    .dataframe tbody tr th:only-of-type {\n",
       "        vertical-align: middle;\n",
       "    }\n",
       "\n",
       "    .dataframe tbody tr th {\n",
       "        vertical-align: top;\n",
       "    }\n",
       "\n",
       "    .dataframe thead th {\n",
       "        text-align: right;\n",
       "    }\n",
       "</style>\n",
       "<table border=\"1\" class=\"dataframe\">\n",
       "  <thead>\n",
       "    <tr style=\"text-align: right;\">\n",
       "      <th></th>\n",
       "      <th>photos</th>\n",
       "      <th>seg_predictions</th>\n",
       "      <th>img_score</th>\n",
       "      <th>subimg_scores</th>\n",
       "      <th>fractions</th>\n",
       "      <th>avg_subimg_score</th>\n",
       "    </tr>\n",
       "  </thead>\n",
       "  <tbody>\n",
       "    <tr>\n",
       "      <th>2</th>\n",
       "      <td>photo_2023-10-24_20-36-57.jpg</td>\n",
       "      <td>(/tmp/gradio/tmpt9y7t9hq.json, /tmp/gradio/67e...</td>\n",
       "      <td>6.273122</td>\n",
       "      <td>[6.41249418258667]</td>\n",
       "      <td>0.270756</td>\n",
       "      <td>6.412494</td>\n",
       "    </tr>\n",
       "  </tbody>\n",
       "</table>\n",
       "</div>"
      ],
      "text/plain": [
       "                          photos  \\\n",
       "2  photo_2023-10-24_20-36-57.jpg   \n",
       "\n",
       "                                     seg_predictions  img_score  \\\n",
       "2  (/tmp/gradio/tmpt9y7t9hq.json, /tmp/gradio/67e...   6.273122   \n",
       "\n",
       "        subimg_scores  fractions  avg_subimg_score  \n",
       "2  [6.41249418258667]   0.270756          6.412494  "
      ]
     },
     "execution_count": 66,
     "metadata": {},
     "output_type": "execute_result"
    }
   ],
   "source": [
    "filtered = df[df[\"subimg_scores\"].apply(len) > 0].copy()\n",
    "filtered[\"avg_subimg_score\"] = filtered[\"subimg_scores\"].apply(lambda x: sum(x)/len(x))\n",
    "filtered"
   ]
  },
  {
   "cell_type": "code",
   "execution_count": 68,
   "metadata": {},
   "outputs": [],
   "source": [
    "filtered[\"final_score\"] = filtered[\"img_score\"] + filtered[\"fractions\"]*20 + filtered[\"avg_subimg_score\"]"
   ]
  },
  {
   "cell_type": "code",
   "execution_count": 69,
   "metadata": {},
   "outputs": [
    {
     "data": {
      "text/html": [
       "<div>\n",
       "<style scoped>\n",
       "    .dataframe tbody tr th:only-of-type {\n",
       "        vertical-align: middle;\n",
       "    }\n",
       "\n",
       "    .dataframe tbody tr th {\n",
       "        vertical-align: top;\n",
       "    }\n",
       "\n",
       "    .dataframe thead th {\n",
       "        text-align: right;\n",
       "    }\n",
       "</style>\n",
       "<table border=\"1\" class=\"dataframe\">\n",
       "  <thead>\n",
       "    <tr style=\"text-align: right;\">\n",
       "      <th></th>\n",
       "      <th>photos</th>\n",
       "      <th>seg_predictions</th>\n",
       "      <th>img_score</th>\n",
       "      <th>subimg_scores</th>\n",
       "      <th>fractions</th>\n",
       "      <th>avg_subimg_score</th>\n",
       "      <th>final_score</th>\n",
       "    </tr>\n",
       "  </thead>\n",
       "  <tbody>\n",
       "    <tr>\n",
       "      <th>2</th>\n",
       "      <td>photo_2023-10-24_20-36-57.jpg</td>\n",
       "      <td>(/tmp/gradio/tmpt9y7t9hq.json, /tmp/gradio/67e...</td>\n",
       "      <td>6.273122</td>\n",
       "      <td>[6.41249418258667]</td>\n",
       "      <td>0.270756</td>\n",
       "      <td>6.412494</td>\n",
       "      <td>18.100729</td>\n",
       "    </tr>\n",
       "  </tbody>\n",
       "</table>\n",
       "</div>"
      ],
      "text/plain": [
       "                          photos  \\\n",
       "2  photo_2023-10-24_20-36-57.jpg   \n",
       "\n",
       "                                     seg_predictions  img_score  \\\n",
       "2  (/tmp/gradio/tmpt9y7t9hq.json, /tmp/gradio/67e...   6.273122   \n",
       "\n",
       "        subimg_scores  fractions  avg_subimg_score  final_score  \n",
       "2  [6.41249418258667]   0.270756          6.412494    18.100729  "
      ]
     },
     "execution_count": 69,
     "metadata": {},
     "output_type": "execute_result"
    }
   ],
   "source": [
    "filtered.sort_values(by=\"final_score\", ascending=False)"
   ]
  },
  {
   "cell_type": "code",
   "execution_count": null,
   "metadata": {},
   "outputs": [],
   "source": []
  }
 ],
 "metadata": {
  "kernelspec": {
   "display_name": "image-assess",
   "language": "python",
   "name": "python3"
  },
  "language_info": {
   "codemirror_mode": {
    "name": "ipython",
    "version": 3
   },
   "file_extension": ".py",
   "mimetype": "text/x-python",
   "name": "python",
   "nbconvert_exporter": "python",
   "pygments_lexer": "ipython3",
   "version": "3.8.18"
  }
 },
 "nbformat": 4,
 "nbformat_minor": 2
}
